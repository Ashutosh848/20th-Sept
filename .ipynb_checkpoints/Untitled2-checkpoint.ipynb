{
 "cells": [
  {
   "cell_type": "code",
   "execution_count": 16,
   "id": "73275f3e-9b7c-4bad-9225-e654fa069feb",
   "metadata": {},
   "outputs": [],
   "source": [
    "import pandas as pd\n",
    "import mysql.connector\n",
    "import sqlite3 as sql"
   ]
  },
  {
   "cell_type": "code",
   "execution_count": 17,
   "id": "92b5fd63-20af-4575-bedc-fffa8714e53b",
   "metadata": {},
   "outputs": [
    {
     "name": "stdin",
     "output_type": "stream",
     "text": [
      " select * from netflix;\n"
     ]
    },
    {
     "name": "stderr",
     "output_type": "stream",
     "text": [
      "C:\\Users\\delli\\AppData\\Local\\Temp\\ipykernel_11300\\367737087.py:12: UserWarning: pandas only supports SQLAlchemy connectable (engine/connection) or database string URI or sqlite3 DBAPI2 connection. Other DBAPI2 objects are not tested. Please consider using SQLAlchemy.\n",
      "  self.df = pd.read_sql_query(self.query,conn)\n"
     ]
    }
   ],
   "source": [
    "class Main:\n",
    "    def __init__(self,username,password,host,database,query):\n",
    "        self.username = username\n",
    "        self.__password = password\n",
    "        self.host = host\n",
    "        self.database = database\n",
    "        self.df = None\n",
    "        self.query = query\n",
    "    def connection(self):\n",
    "        conn = mysql.connector.connect(user = self.username,host = self.host,password = self.__password,database = self.database)\n",
    "        cur = conn.cursor()\n",
    "        self.df = pd.read_sql_query(self.query,conn)\n",
    "        return self.df\n",
    "\n",
    "a = Main('root','ashu13579','127.0.0.1','new1',input())\n",
    "df = a.connection()\n"
   ]
  },
  {
   "cell_type": "code",
   "execution_count": 18,
   "id": "8919c2d4-dbe2-48c5-9003-38846e79fbc4",
   "metadata": {},
   "outputs": [
    {
     "data": {
      "text/html": [
       "<div>\n",
       "<style scoped>\n",
       "    .dataframe tbody tr th:only-of-type {\n",
       "        vertical-align: middle;\n",
       "    }\n",
       "\n",
       "    .dataframe tbody tr th {\n",
       "        vertical-align: top;\n",
       "    }\n",
       "\n",
       "    .dataframe thead th {\n",
       "        text-align: right;\n",
       "    }\n",
       "</style>\n",
       "<table border=\"1\" class=\"dataframe\">\n",
       "  <thead>\n",
       "    <tr style=\"text-align: right;\">\n",
       "      <th></th>\n",
       "      <th>show_id</th>\n",
       "      <th>type</th>\n",
       "      <th>title</th>\n",
       "      <th>director</th>\n",
       "      <th>casts</th>\n",
       "      <th>country</th>\n",
       "      <th>date_added</th>\n",
       "      <th>release_year</th>\n",
       "      <th>rating</th>\n",
       "      <th>duration</th>\n",
       "      <th>listed_in</th>\n",
       "    </tr>\n",
       "  </thead>\n",
       "  <tbody>\n",
       "    <tr>\n",
       "      <th>0</th>\n",
       "      <td>s1</td>\n",
       "      <td>Movie</td>\n",
       "      <td>Dick Johnson Is Dead</td>\n",
       "      <td>Kirsten Johnson</td>\n",
       "      <td></td>\n",
       "      <td>United States</td>\n",
       "      <td>September 25  2021</td>\n",
       "      <td>2020</td>\n",
       "      <td>PG 13</td>\n",
       "      <td>90 min</td>\n",
       "      <td>Documentaries\\r</td>\n",
       "    </tr>\n",
       "    <tr>\n",
       "      <th>1</th>\n",
       "      <td>s2</td>\n",
       "      <td>TV Show</td>\n",
       "      <td>Blood &amp; Water</td>\n",
       "      <td></td>\n",
       "      <td>Ama Qamata  Khosi Ngema  Gail Mabalane  Thaban...</td>\n",
       "      <td>South Africa</td>\n",
       "      <td>September 24  2021</td>\n",
       "      <td>2021</td>\n",
       "      <td>TV MA</td>\n",
       "      <td>2 Seasons</td>\n",
       "      <td>International TV Shows  TV Dramas  TV Mysteries\\r</td>\n",
       "    </tr>\n",
       "    <tr>\n",
       "      <th>2</th>\n",
       "      <td>s3</td>\n",
       "      <td>TV Show</td>\n",
       "      <td>Ganglands</td>\n",
       "      <td>Julien Leclercq</td>\n",
       "      <td>Sami Bouajila  Tracy Gotoas  Samuel Jouy  Nabi...</td>\n",
       "      <td></td>\n",
       "      <td>September 24  2021</td>\n",
       "      <td>2021</td>\n",
       "      <td>TV MA</td>\n",
       "      <td>1 Season</td>\n",
       "      <td>Crime TV Shows  International TV Shows  TV Act...</td>\n",
       "    </tr>\n",
       "    <tr>\n",
       "      <th>3</th>\n",
       "      <td>s4</td>\n",
       "      <td>TV Show</td>\n",
       "      <td>Jailbirds New Orleans</td>\n",
       "      <td></td>\n",
       "      <td></td>\n",
       "      <td></td>\n",
       "      <td>September 24  2021</td>\n",
       "      <td>2021</td>\n",
       "      <td>TV MA</td>\n",
       "      <td>1 Season</td>\n",
       "      <td>Docuseries  Reality TV\\r</td>\n",
       "    </tr>\n",
       "    <tr>\n",
       "      <th>4</th>\n",
       "      <td>s5</td>\n",
       "      <td>TV Show</td>\n",
       "      <td>Kota Factory</td>\n",
       "      <td></td>\n",
       "      <td>Mayur More  Jitendra Kumar  Ranjan Raj  Alam K...</td>\n",
       "      <td>India</td>\n",
       "      <td>September 24  2021</td>\n",
       "      <td>2021</td>\n",
       "      <td>TV MA</td>\n",
       "      <td>2 Seasons</td>\n",
       "      <td>International TV Shows  Romantic TV Shows  TV ...</td>\n",
       "    </tr>\n",
       "    <tr>\n",
       "      <th>...</th>\n",
       "      <td>...</td>\n",
       "      <td>...</td>\n",
       "      <td>...</td>\n",
       "      <td>...</td>\n",
       "      <td>...</td>\n",
       "      <td>...</td>\n",
       "      <td>...</td>\n",
       "      <td>...</td>\n",
       "      <td>...</td>\n",
       "      <td>...</td>\n",
       "      <td>...</td>\n",
       "    </tr>\n",
       "    <tr>\n",
       "      <th>8802</th>\n",
       "      <td>s8803</td>\n",
       "      <td>Movie</td>\n",
       "      <td>Zodiac</td>\n",
       "      <td>David Fincher</td>\n",
       "      <td>Mark Ruffalo  Jake Gyllenhaal  Robert Downey J...</td>\n",
       "      <td>United States</td>\n",
       "      <td>November 20  2019</td>\n",
       "      <td>2007</td>\n",
       "      <td>R</td>\n",
       "      <td>158 min</td>\n",
       "      <td>Cult Movies  Dramas  Thrillers\\r</td>\n",
       "    </tr>\n",
       "    <tr>\n",
       "      <th>8803</th>\n",
       "      <td>s8804</td>\n",
       "      <td>TV Show</td>\n",
       "      <td>Zombie Dumb</td>\n",
       "      <td></td>\n",
       "      <td></td>\n",
       "      <td></td>\n",
       "      <td>July 1  2019</td>\n",
       "      <td>2018</td>\n",
       "      <td>TV Y7</td>\n",
       "      <td>2 Seasons</td>\n",
       "      <td>Kids  TV  Korean TV Shows  TV Comedies\\r</td>\n",
       "    </tr>\n",
       "    <tr>\n",
       "      <th>8804</th>\n",
       "      <td>s8805</td>\n",
       "      <td>Movie</td>\n",
       "      <td>Zombieland</td>\n",
       "      <td>Ruben Fleischer</td>\n",
       "      <td>Jesse Eisenberg  Woody Harrelson  Emma Stone  ...</td>\n",
       "      <td>United States</td>\n",
       "      <td>November 1  2019</td>\n",
       "      <td>2009</td>\n",
       "      <td>R</td>\n",
       "      <td>88 min</td>\n",
       "      <td>Comedies  Horror Movies\\r</td>\n",
       "    </tr>\n",
       "    <tr>\n",
       "      <th>8805</th>\n",
       "      <td>s8806</td>\n",
       "      <td>Movie</td>\n",
       "      <td>Zoom</td>\n",
       "      <td>Peter Hewitt</td>\n",
       "      <td>Tim Allen  Courteney Cox  Chevy Chase  Kate Ma...</td>\n",
       "      <td>United States</td>\n",
       "      <td>January 11  2020</td>\n",
       "      <td>2006</td>\n",
       "      <td>PG</td>\n",
       "      <td>88 min</td>\n",
       "      <td>Children   Family Movies  Comedies\\r</td>\n",
       "    </tr>\n",
       "    <tr>\n",
       "      <th>8806</th>\n",
       "      <td>s8807</td>\n",
       "      <td>Movie</td>\n",
       "      <td>Zubaan</td>\n",
       "      <td>Mozez Singh</td>\n",
       "      <td>Vicky Kaushal  Sarah-Jane Dias  Raaghav Chanan...</td>\n",
       "      <td>India</td>\n",
       "      <td>March 2  2019</td>\n",
       "      <td>2015</td>\n",
       "      <td>TV 14</td>\n",
       "      <td>111 min</td>\n",
       "      <td>Dramas  International Movies  Music   Musicals\\r</td>\n",
       "    </tr>\n",
       "  </tbody>\n",
       "</table>\n",
       "<p>8807 rows × 11 columns</p>\n",
       "</div>"
      ],
      "text/plain": [
       "     show_id     type                  title         director  \\\n",
       "0         s1    Movie   Dick Johnson Is Dead  Kirsten Johnson   \n",
       "1         s2  TV Show          Blood & Water                    \n",
       "2         s3  TV Show              Ganglands  Julien Leclercq   \n",
       "3         s4  TV Show  Jailbirds New Orleans                    \n",
       "4         s5  TV Show           Kota Factory                    \n",
       "...      ...      ...                    ...              ...   \n",
       "8802   s8803    Movie                 Zodiac    David Fincher   \n",
       "8803   s8804  TV Show            Zombie Dumb                    \n",
       "8804   s8805    Movie             Zombieland  Ruben Fleischer   \n",
       "8805   s8806    Movie                   Zoom     Peter Hewitt   \n",
       "8806   s8807    Movie                 Zubaan      Mozez Singh   \n",
       "\n",
       "                                                  casts        country  \\\n",
       "0                                                        United States   \n",
       "1     Ama Qamata  Khosi Ngema  Gail Mabalane  Thaban...   South Africa   \n",
       "2     Sami Bouajila  Tracy Gotoas  Samuel Jouy  Nabi...                  \n",
       "3                                                                        \n",
       "4     Mayur More  Jitendra Kumar  Ranjan Raj  Alam K...          India   \n",
       "...                                                 ...            ...   \n",
       "8802  Mark Ruffalo  Jake Gyllenhaal  Robert Downey J...  United States   \n",
       "8803                                                                     \n",
       "8804  Jesse Eisenberg  Woody Harrelson  Emma Stone  ...  United States   \n",
       "8805  Tim Allen  Courteney Cox  Chevy Chase  Kate Ma...  United States   \n",
       "8806  Vicky Kaushal  Sarah-Jane Dias  Raaghav Chanan...          India   \n",
       "\n",
       "              date_added release_year rating   duration  \\\n",
       "0     September 25  2021         2020  PG 13     90 min   \n",
       "1     September 24  2021         2021  TV MA  2 Seasons   \n",
       "2     September 24  2021         2021  TV MA   1 Season   \n",
       "3     September 24  2021         2021  TV MA   1 Season   \n",
       "4     September 24  2021         2021  TV MA  2 Seasons   \n",
       "...                  ...          ...    ...        ...   \n",
       "8802   November 20  2019         2007      R    158 min   \n",
       "8803        July 1  2019         2018  TV Y7  2 Seasons   \n",
       "8804    November 1  2019         2009      R     88 min   \n",
       "8805    January 11  2020         2006     PG     88 min   \n",
       "8806       March 2  2019         2015  TV 14    111 min   \n",
       "\n",
       "                                              listed_in  \n",
       "0                                       Documentaries\\r  \n",
       "1     International TV Shows  TV Dramas  TV Mysteries\\r  \n",
       "2     Crime TV Shows  International TV Shows  TV Act...  \n",
       "3                              Docuseries  Reality TV\\r  \n",
       "4     International TV Shows  Romantic TV Shows  TV ...  \n",
       "...                                                 ...  \n",
       "8802                   Cult Movies  Dramas  Thrillers\\r  \n",
       "8803           Kids  TV  Korean TV Shows  TV Comedies\\r  \n",
       "8804                          Comedies  Horror Movies\\r  \n",
       "8805               Children   Family Movies  Comedies\\r  \n",
       "8806   Dramas  International Movies  Music   Musicals\\r  \n",
       "\n",
       "[8807 rows x 11 columns]"
      ]
     },
     "execution_count": 18,
     "metadata": {},
     "output_type": "execute_result"
    }
   ],
   "source": [
    "df"
   ]
  },
  {
   "cell_type": "code",
   "execution_count": 19,
   "id": "d7e344b2-77d2-4355-adfb-051132fb5173",
   "metadata": {},
   "outputs": [
    {
     "data": {
      "text/plain": [
       "(8807, 11)"
      ]
     },
     "execution_count": 19,
     "metadata": {},
     "output_type": "execute_result"
    }
   ],
   "source": [
    "df.shape"
   ]
  },
  {
   "cell_type": "code",
   "execution_count": 20,
   "id": "6775185f-e658-4f29-896a-d7227b364e53",
   "metadata": {},
   "outputs": [
    {
     "data": {
      "text/plain": [
       "release_year\n",
       "2018    1147\n",
       "2017    1032\n",
       "2019    1030\n",
       "2020     953\n",
       "2016     902\n",
       "Name: count, dtype: int64"
      ]
     },
     "execution_count": 20,
     "metadata": {},
     "output_type": "execute_result"
    }
   ],
   "source": [
    "df['release_year'].value_counts().head(5)"
   ]
  },
  {
   "cell_type": "code",
   "execution_count": 21,
   "id": "8ab7fdb2-408b-4c68-aa66-614fcf827e0f",
   "metadata": {},
   "outputs": [
    {
     "data": {
      "text/plain": [
       "type\n",
       "Movie      6131\n",
       "TV Show    2676\n",
       "Name: count, dtype: int64"
      ]
     },
     "execution_count": 21,
     "metadata": {},
     "output_type": "execute_result"
    }
   ],
   "source": [
    "df['type'].value_counts()"
   ]
  },
  {
   "cell_type": "code",
   "execution_count": 22,
   "id": "da3d915d-7343-409f-998f-867e0b28339d",
   "metadata": {},
   "outputs": [
    {
     "data": {
      "text/html": [
       "<div>\n",
       "<style scoped>\n",
       "    .dataframe tbody tr th:only-of-type {\n",
       "        vertical-align: middle;\n",
       "    }\n",
       "\n",
       "    .dataframe tbody tr th {\n",
       "        vertical-align: top;\n",
       "    }\n",
       "\n",
       "    .dataframe thead th {\n",
       "        text-align: right;\n",
       "    }\n",
       "</style>\n",
       "<table border=\"1\" class=\"dataframe\">\n",
       "  <thead>\n",
       "    <tr style=\"text-align: right;\">\n",
       "      <th></th>\n",
       "      <th>show_id</th>\n",
       "      <th>type</th>\n",
       "      <th>title</th>\n",
       "      <th>director</th>\n",
       "      <th>casts</th>\n",
       "      <th>country</th>\n",
       "      <th>date_added</th>\n",
       "      <th>release_year</th>\n",
       "      <th>rating</th>\n",
       "      <th>duration</th>\n",
       "      <th>listed_in</th>\n",
       "    </tr>\n",
       "  </thead>\n",
       "  <tbody>\n",
       "    <tr>\n",
       "      <th>0</th>\n",
       "      <td>s1</td>\n",
       "      <td>Movie</td>\n",
       "      <td>Dick Johnson Is Dead</td>\n",
       "      <td>Kirsten Johnson</td>\n",
       "      <td></td>\n",
       "      <td>United States</td>\n",
       "      <td>September 25  2021</td>\n",
       "      <td>2020</td>\n",
       "      <td>PG 13</td>\n",
       "      <td>90 min</td>\n",
       "      <td>Documentaries\\r</td>\n",
       "    </tr>\n",
       "    <tr>\n",
       "      <th>1</th>\n",
       "      <td>s2</td>\n",
       "      <td>TV Show</td>\n",
       "      <td>Blood &amp; Water</td>\n",
       "      <td></td>\n",
       "      <td>Ama Qamata  Khosi Ngema  Gail Mabalane  Thaban...</td>\n",
       "      <td>South Africa</td>\n",
       "      <td>September 24  2021</td>\n",
       "      <td>2021</td>\n",
       "      <td>TV MA</td>\n",
       "      <td>2 Seasons</td>\n",
       "      <td>International TV Shows  TV Dramas  TV Mysteries\\r</td>\n",
       "    </tr>\n",
       "    <tr>\n",
       "      <th>2</th>\n",
       "      <td>s3</td>\n",
       "      <td>TV Show</td>\n",
       "      <td>Ganglands</td>\n",
       "      <td>Julien Leclercq</td>\n",
       "      <td>Sami Bouajila  Tracy Gotoas  Samuel Jouy  Nabi...</td>\n",
       "      <td></td>\n",
       "      <td>September 24  2021</td>\n",
       "      <td>2021</td>\n",
       "      <td>TV MA</td>\n",
       "      <td>1 Season</td>\n",
       "      <td>Crime TV Shows  International TV Shows  TV Act...</td>\n",
       "    </tr>\n",
       "    <tr>\n",
       "      <th>3</th>\n",
       "      <td>s4</td>\n",
       "      <td>TV Show</td>\n",
       "      <td>Jailbirds New Orleans</td>\n",
       "      <td></td>\n",
       "      <td></td>\n",
       "      <td></td>\n",
       "      <td>September 24  2021</td>\n",
       "      <td>2021</td>\n",
       "      <td>TV MA</td>\n",
       "      <td>1 Season</td>\n",
       "      <td>Docuseries  Reality TV\\r</td>\n",
       "    </tr>\n",
       "    <tr>\n",
       "      <th>4</th>\n",
       "      <td>s5</td>\n",
       "      <td>TV Show</td>\n",
       "      <td>Kota Factory</td>\n",
       "      <td></td>\n",
       "      <td>Mayur More  Jitendra Kumar  Ranjan Raj  Alam K...</td>\n",
       "      <td>India</td>\n",
       "      <td>September 24  2021</td>\n",
       "      <td>2021</td>\n",
       "      <td>TV MA</td>\n",
       "      <td>2 Seasons</td>\n",
       "      <td>International TV Shows  Romantic TV Shows  TV ...</td>\n",
       "    </tr>\n",
       "    <tr>\n",
       "      <th>5</th>\n",
       "      <td>s6</td>\n",
       "      <td>TV Show</td>\n",
       "      <td>Midnight Mass</td>\n",
       "      <td>Mike Flanagan</td>\n",
       "      <td>Kate Siegel  Zach Gilford  Hamish Linklater  H...</td>\n",
       "      <td></td>\n",
       "      <td>September 24  2021</td>\n",
       "      <td>2021</td>\n",
       "      <td>TV MA</td>\n",
       "      <td>1 Season</td>\n",
       "      <td>TV Dramas  TV Horror  TV Mysteries\\r</td>\n",
       "    </tr>\n",
       "    <tr>\n",
       "      <th>6</th>\n",
       "      <td>s7</td>\n",
       "      <td>Movie</td>\n",
       "      <td>My Little Pony  A New Generation</td>\n",
       "      <td>Robert Cullen  José Luis Ucha</td>\n",
       "      <td>Vanessa Hudgens  Kimiko Glenn  James Marsden  ...</td>\n",
       "      <td></td>\n",
       "      <td>September 24  2021</td>\n",
       "      <td>2021</td>\n",
       "      <td>PG</td>\n",
       "      <td>91 min</td>\n",
       "      <td>Children   Family Movies\\r</td>\n",
       "    </tr>\n",
       "    <tr>\n",
       "      <th>7</th>\n",
       "      <td>s8</td>\n",
       "      <td>Movie</td>\n",
       "      <td>Sankofa</td>\n",
       "      <td>Haile Gerima</td>\n",
       "      <td>Kofi Ghanaba  Oyafunmike Ogunlano  Alexandra D...</td>\n",
       "      <td>United States  Ghana  Burkina Faso  United Kin...</td>\n",
       "      <td>September 24  2021</td>\n",
       "      <td>1993</td>\n",
       "      <td>TV MA</td>\n",
       "      <td>125 min</td>\n",
       "      <td>Dramas  Independent Movies  International Movi...</td>\n",
       "    </tr>\n",
       "    <tr>\n",
       "      <th>8</th>\n",
       "      <td>s9</td>\n",
       "      <td>TV Show</td>\n",
       "      <td>The Great British Baking Show</td>\n",
       "      <td>Andy Devonshire</td>\n",
       "      <td>Mel Giedroyc  Sue Perkins  Mary Berry  Paul Ho...</td>\n",
       "      <td>United Kingdom</td>\n",
       "      <td>September 24  2021</td>\n",
       "      <td>2021</td>\n",
       "      <td>TV 14</td>\n",
       "      <td>9 Seasons</td>\n",
       "      <td>British TV Shows  Reality TV\\r</td>\n",
       "    </tr>\n",
       "    <tr>\n",
       "      <th>9</th>\n",
       "      <td>s10</td>\n",
       "      <td>Movie</td>\n",
       "      <td>The Starling</td>\n",
       "      <td>Theodore Melfi</td>\n",
       "      <td>Melissa McCarthy  Chris O Dowd  Kevin Kline  T...</td>\n",
       "      <td>United States</td>\n",
       "      <td>September 24  2021</td>\n",
       "      <td>2021</td>\n",
       "      <td>PG 13</td>\n",
       "      <td>104 min</td>\n",
       "      <td>Comedies  Dramas\\r</td>\n",
       "    </tr>\n",
       "  </tbody>\n",
       "</table>\n",
       "</div>"
      ],
      "text/plain": [
       "  show_id     type                             title  \\\n",
       "0      s1    Movie              Dick Johnson Is Dead   \n",
       "1      s2  TV Show                     Blood & Water   \n",
       "2      s3  TV Show                         Ganglands   \n",
       "3      s4  TV Show             Jailbirds New Orleans   \n",
       "4      s5  TV Show                      Kota Factory   \n",
       "5      s6  TV Show                     Midnight Mass   \n",
       "6      s7    Movie  My Little Pony  A New Generation   \n",
       "7      s8    Movie                           Sankofa   \n",
       "8      s9  TV Show     The Great British Baking Show   \n",
       "9     s10    Movie                      The Starling   \n",
       "\n",
       "                        director  \\\n",
       "0                Kirsten Johnson   \n",
       "1                                  \n",
       "2                Julien Leclercq   \n",
       "3                                  \n",
       "4                                  \n",
       "5                  Mike Flanagan   \n",
       "6  Robert Cullen  José Luis Ucha   \n",
       "7                   Haile Gerima   \n",
       "8                Andy Devonshire   \n",
       "9                 Theodore Melfi   \n",
       "\n",
       "                                               casts  \\\n",
       "0                                                      \n",
       "1  Ama Qamata  Khosi Ngema  Gail Mabalane  Thaban...   \n",
       "2  Sami Bouajila  Tracy Gotoas  Samuel Jouy  Nabi...   \n",
       "3                                                      \n",
       "4  Mayur More  Jitendra Kumar  Ranjan Raj  Alam K...   \n",
       "5  Kate Siegel  Zach Gilford  Hamish Linklater  H...   \n",
       "6  Vanessa Hudgens  Kimiko Glenn  James Marsden  ...   \n",
       "7  Kofi Ghanaba  Oyafunmike Ogunlano  Alexandra D...   \n",
       "8  Mel Giedroyc  Sue Perkins  Mary Berry  Paul Ho...   \n",
       "9  Melissa McCarthy  Chris O Dowd  Kevin Kline  T...   \n",
       "\n",
       "                                             country          date_added  \\\n",
       "0                                      United States  September 25  2021   \n",
       "1                                       South Africa  September 24  2021   \n",
       "2                                                     September 24  2021   \n",
       "3                                                     September 24  2021   \n",
       "4                                              India  September 24  2021   \n",
       "5                                                     September 24  2021   \n",
       "6                                                     September 24  2021   \n",
       "7  United States  Ghana  Burkina Faso  United Kin...  September 24  2021   \n",
       "8                                     United Kingdom  September 24  2021   \n",
       "9                                      United States  September 24  2021   \n",
       "\n",
       "  release_year rating   duration  \\\n",
       "0         2020  PG 13     90 min   \n",
       "1         2021  TV MA  2 Seasons   \n",
       "2         2021  TV MA   1 Season   \n",
       "3         2021  TV MA   1 Season   \n",
       "4         2021  TV MA  2 Seasons   \n",
       "5         2021  TV MA   1 Season   \n",
       "6         2021     PG     91 min   \n",
       "7         1993  TV MA    125 min   \n",
       "8         2021  TV 14  9 Seasons   \n",
       "9         2021  PG 13    104 min   \n",
       "\n",
       "                                           listed_in  \n",
       "0                                    Documentaries\\r  \n",
       "1  International TV Shows  TV Dramas  TV Mysteries\\r  \n",
       "2  Crime TV Shows  International TV Shows  TV Act...  \n",
       "3                           Docuseries  Reality TV\\r  \n",
       "4  International TV Shows  Romantic TV Shows  TV ...  \n",
       "5               TV Dramas  TV Horror  TV Mysteries\\r  \n",
       "6                         Children   Family Movies\\r  \n",
       "7  Dramas  Independent Movies  International Movi...  \n",
       "8                     British TV Shows  Reality TV\\r  \n",
       "9                                 Comedies  Dramas\\r  "
      ]
     },
     "execution_count": 22,
     "metadata": {},
     "output_type": "execute_result"
    }
   ],
   "source": [
    "df.head(10)"
   ]
  },
  {
   "cell_type": "code",
   "execution_count": 23,
   "id": "3ec89b1d-8044-46d7-a05b-403492111162",
   "metadata": {},
   "outputs": [
    {
     "data": {
      "text/plain": [
       "country\n",
       "United States     2818\n",
       "India              972\n",
       "                   831\n",
       "United Kingdom     419\n",
       "Japan              245\n",
       "Name: count, dtype: int64"
      ]
     },
     "execution_count": 23,
     "metadata": {},
     "output_type": "execute_result"
    }
   ],
   "source": [
    "df['country'].value_counts().head(5)"
   ]
  },
  {
   "cell_type": "code",
   "execution_count": 24,
   "id": "8e9f5809-02fe-4e61-880c-48160bc01d0a",
   "metadata": {},
   "outputs": [
    {
     "data": {
      "text/plain": [
       "casts\n",
       "                                                                                           825\n",
       "David Attenborough                                                                          19\n",
       "Vatsal Dubey  Julie Tejwani  Rupa Bhimani  Jigna Bhardwaj  Rajesh Kava  Mousam  Swapnil     14\n",
       "Samuel West                                                                                 10\n",
       "Jeff Dunham                                                                                  7\n",
       "Name: count, dtype: int64"
      ]
     },
     "execution_count": 24,
     "metadata": {},
     "output_type": "execute_result"
    }
   ],
   "source": [
    "df['casts'].value_counts().head(5)"
   ]
  },
  {
   "cell_type": "code",
   "execution_count": 25,
   "id": "5d0dd62d-02c0-44c8-89ad-5a874877c24e",
   "metadata": {},
   "outputs": [
    {
     "data": {
      "text/plain": [
       "director\n",
       "                          2634\n",
       "Rajiv Chilaka               19\n",
       "Raúl Campos  Jan Suter      18\n",
       "Suhas Kadav                 16\n",
       "Marcus Raboy                16\n",
       "Name: count, dtype: int64"
      ]
     },
     "execution_count": 25,
     "metadata": {},
     "output_type": "execute_result"
    }
   ],
   "source": [
    "df['director'].value_counts().head(5)"
   ]
  },
  {
   "cell_type": "code",
   "execution_count": 26,
   "id": "9bc01ce3-a484-4cce-9834-7bc51b1e0473",
   "metadata": {},
   "outputs": [],
   "source": [
    "hr = df[(df['type']=='Movie')][['rating']]"
   ]
  },
  {
   "cell_type": "code",
   "execution_count": 115,
   "id": "bc9065cc-70e1-451a-b488-6fa62bb9dbae",
   "metadata": {},
   "outputs": [],
   "source": [
    "wow = hr['rating'].value_counts().head(5)"
   ]
  },
  {
   "cell_type": "code",
   "execution_count": 28,
   "id": "9a960f55-ea4e-4128-b161-6dd926254605",
   "metadata": {},
   "outputs": [],
   "source": [
    "he = df[df['type']=='TV Show']"
   ]
  },
  {
   "cell_type": "code",
   "execution_count": 132,
   "id": "30a1b4dd-0d0f-4d86-889e-7d476d90ecc0",
   "metadata": {},
   "outputs": [],
   "source": [
    "wow2=he['rating'].value_counts().head(5)"
   ]
  },
  {
   "cell_type": "code",
   "execution_count": 30,
   "id": "28a01856-33ee-480d-8db3-c7c35ffd01dc",
   "metadata": {},
   "outputs": [
    {
     "data": {
      "text/html": [
       "<div>\n",
       "<style scoped>\n",
       "    .dataframe tbody tr th:only-of-type {\n",
       "        vertical-align: middle;\n",
       "    }\n",
       "\n",
       "    .dataframe tbody tr th {\n",
       "        vertical-align: top;\n",
       "    }\n",
       "\n",
       "    .dataframe thead th {\n",
       "        text-align: right;\n",
       "    }\n",
       "</style>\n",
       "<table border=\"1\" class=\"dataframe\">\n",
       "  <thead>\n",
       "    <tr style=\"text-align: right;\">\n",
       "      <th></th>\n",
       "      <th>show_id</th>\n",
       "      <th>type</th>\n",
       "      <th>title</th>\n",
       "      <th>director</th>\n",
       "      <th>casts</th>\n",
       "      <th>country</th>\n",
       "      <th>date_added</th>\n",
       "      <th>release_year</th>\n",
       "      <th>rating</th>\n",
       "      <th>duration</th>\n",
       "      <th>listed_in</th>\n",
       "    </tr>\n",
       "  </thead>\n",
       "  <tbody>\n",
       "    <tr>\n",
       "      <th>0</th>\n",
       "      <td>s1</td>\n",
       "      <td>Movie</td>\n",
       "      <td>Dick Johnson Is Dead</td>\n",
       "      <td>Kirsten Johnson</td>\n",
       "      <td></td>\n",
       "      <td>United States</td>\n",
       "      <td>September 25  2021</td>\n",
       "      <td>2020</td>\n",
       "      <td>PG 13</td>\n",
       "      <td>90 min</td>\n",
       "      <td>Documentaries\\r</td>\n",
       "    </tr>\n",
       "    <tr>\n",
       "      <th>1</th>\n",
       "      <td>s2</td>\n",
       "      <td>TV Show</td>\n",
       "      <td>Blood &amp; Water</td>\n",
       "      <td></td>\n",
       "      <td>Ama Qamata  Khosi Ngema  Gail Mabalane  Thaban...</td>\n",
       "      <td>South Africa</td>\n",
       "      <td>September 24  2021</td>\n",
       "      <td>2021</td>\n",
       "      <td>TV MA</td>\n",
       "      <td>2 Seasons</td>\n",
       "      <td>International TV Shows  TV Dramas  TV Mysteries\\r</td>\n",
       "    </tr>\n",
       "    <tr>\n",
       "      <th>2</th>\n",
       "      <td>s3</td>\n",
       "      <td>TV Show</td>\n",
       "      <td>Ganglands</td>\n",
       "      <td>Julien Leclercq</td>\n",
       "      <td>Sami Bouajila  Tracy Gotoas  Samuel Jouy  Nabi...</td>\n",
       "      <td></td>\n",
       "      <td>September 24  2021</td>\n",
       "      <td>2021</td>\n",
       "      <td>TV MA</td>\n",
       "      <td>1 Season</td>\n",
       "      <td>Crime TV Shows  International TV Shows  TV Act...</td>\n",
       "    </tr>\n",
       "    <tr>\n",
       "      <th>3</th>\n",
       "      <td>s4</td>\n",
       "      <td>TV Show</td>\n",
       "      <td>Jailbirds New Orleans</td>\n",
       "      <td></td>\n",
       "      <td></td>\n",
       "      <td></td>\n",
       "      <td>September 24  2021</td>\n",
       "      <td>2021</td>\n",
       "      <td>TV MA</td>\n",
       "      <td>1 Season</td>\n",
       "      <td>Docuseries  Reality TV\\r</td>\n",
       "    </tr>\n",
       "    <tr>\n",
       "      <th>4</th>\n",
       "      <td>s5</td>\n",
       "      <td>TV Show</td>\n",
       "      <td>Kota Factory</td>\n",
       "      <td></td>\n",
       "      <td>Mayur More  Jitendra Kumar  Ranjan Raj  Alam K...</td>\n",
       "      <td>India</td>\n",
       "      <td>September 24  2021</td>\n",
       "      <td>2021</td>\n",
       "      <td>TV MA</td>\n",
       "      <td>2 Seasons</td>\n",
       "      <td>International TV Shows  Romantic TV Shows  TV ...</td>\n",
       "    </tr>\n",
       "  </tbody>\n",
       "</table>\n",
       "</div>"
      ],
      "text/plain": [
       "  show_id     type                  title         director  \\\n",
       "0      s1    Movie   Dick Johnson Is Dead  Kirsten Johnson   \n",
       "1      s2  TV Show          Blood & Water                    \n",
       "2      s3  TV Show              Ganglands  Julien Leclercq   \n",
       "3      s4  TV Show  Jailbirds New Orleans                    \n",
       "4      s5  TV Show           Kota Factory                    \n",
       "\n",
       "                                               casts        country  \\\n",
       "0                                                     United States   \n",
       "1  Ama Qamata  Khosi Ngema  Gail Mabalane  Thaban...   South Africa   \n",
       "2  Sami Bouajila  Tracy Gotoas  Samuel Jouy  Nabi...                  \n",
       "3                                                                     \n",
       "4  Mayur More  Jitendra Kumar  Ranjan Raj  Alam K...          India   \n",
       "\n",
       "           date_added release_year rating   duration  \\\n",
       "0  September 25  2021         2020  PG 13     90 min   \n",
       "1  September 24  2021         2021  TV MA  2 Seasons   \n",
       "2  September 24  2021         2021  TV MA   1 Season   \n",
       "3  September 24  2021         2021  TV MA   1 Season   \n",
       "4  September 24  2021         2021  TV MA  2 Seasons   \n",
       "\n",
       "                                           listed_in  \n",
       "0                                    Documentaries\\r  \n",
       "1  International TV Shows  TV Dramas  TV Mysteries\\r  \n",
       "2  Crime TV Shows  International TV Shows  TV Act...  \n",
       "3                           Docuseries  Reality TV\\r  \n",
       "4  International TV Shows  Romantic TV Shows  TV ...  "
      ]
     },
     "execution_count": 30,
     "metadata": {},
     "output_type": "execute_result"
    }
   ],
   "source": [
    "df.head(5)"
   ]
  },
  {
   "cell_type": "code",
   "execution_count": 31,
   "id": "dda6c96b-1ec7-4a09-9677-35dab6bc7f06",
   "metadata": {},
   "outputs": [],
   "source": [
    "first = df['release_year'].value_counts().head(5)"
   ]
  },
  {
   "cell_type": "code",
   "execution_count": 32,
   "id": "d17b3c4f-b54f-44ff-9d86-e76241b1faad",
   "metadata": {},
   "outputs": [],
   "source": [
    "plt1 = dict(first)"
   ]
  },
  {
   "cell_type": "code",
   "execution_count": 35,
   "id": "f36fa39e-3f4b-49a5-bb1d-3a4b35430041",
   "metadata": {},
   "outputs": [],
   "source": [
    "import matplotlib.pyplot as plt"
   ]
  },
  {
   "cell_type": "code",
   "execution_count": 58,
   "id": "49e286e9-18a6-4503-82ab-7b6fed889eb1",
   "metadata": {},
   "outputs": [
    {
     "data": {
      "image/png": "[encoded data removed]",
      "text/plain": [
       "<Figure size 700x300 with 1 Axes>"
      ]
     },
     "metadata": {},
     "output_type": "display_data"
    }
   ],
   "source": [
    "plt.figure(figsize = (7,3))\n",
    "plt.plot(plt1.keys(),plt1.values(),marker = 'o')\n",
    "plt.title(\"Count Movies and Shows Released(Top 5)\",fontweight = 'bold')\n",
    "plt.xlabel('Years')\n",
    "plt.ylabel('Count of Movies and Shows')\n",
    "plt.show()"
   ]
  },
  {
   "cell_type": "code",
   "execution_count": 43,
   "id": "9d8ff9b5-db10-4e7c-93ee-ced39160e73d",
   "metadata": {},
   "outputs": [],
   "source": [
    "new2 = df['type'].value_counts()"
   ]
  },
  {
   "cell_type": "code",
   "execution_count": 45,
   "id": "587d90f4-819a-4f10-986d-05184bf49daf",
   "metadata": {},
   "outputs": [],
   "source": [
    "plt2 = dict(new2)"
   ]
  },
  {
   "cell_type": "code",
   "execution_count": 55,
   "id": "7788dc7f-9c24-4db7-a2b8-869aa9b36ecf",
   "metadata": {},
   "outputs": [
    {
     "data": {
      "image/png": "[encoded data removed]",
      "text/plain": [
       "<Figure size 300x300 with 1 Axes>"
      ]
     },
     "metadata": {},
     "output_type": "display_data"
    }
   ],
   "source": [
    "plt.figure(figsize = (3,3))\n",
    "plt.pie(plt2.values(),labels = plt2.keys(),autopct='%1.1f%%')\n",
    "plt.title('Total Movies and Shows Released On Netflix',fontweight = 'bold')\n",
    "plt.axis('equal')\n",
    "plt.show()"
   ]
  },
  {
   "cell_type": "code",
   "execution_count": 59,
   "id": "8b29e50b-7029-48fc-a7fe-11319e0215d0",
   "metadata": {},
   "outputs": [],
   "source": [
    "new3 = df['country'].value_counts().head(5)"
   ]
  },
  {
   "cell_type": "code",
   "execution_count": 75,
   "id": "4b91f481-adc2-49af-b7a0-2c08b61f521a",
   "metadata": {},
   "outputs": [
    {
     "data": {
      "text/plain": [
       "{'United States': 2818,\n",
       " 'India': 972,\n",
       " 'United Kingdom': 419,\n",
       " 'Japan': 245,\n",
       " 'Unknown': 831}"
      ]
     },
     "execution_count": 75,
     "metadata": {},
     "output_type": "execute_result"
    }
   ],
   "source": [
    "plt3 = dict(new3)\n",
    "plt3['Unknown'] =plt3.pop('')\n",
    "plt3"
   ]
  },
  {
   "cell_type": "code",
   "execution_count": 84,
   "id": "28a04802-7ff0-443b-a119-97739c666169",
   "metadata": {},
   "outputs": [
    {
     "data": {
      "image/png": "[encoded data removed]",
      "text/plain": [
       "<Figure size 500x300 with 1 Axes>"
      ]
     },
     "metadata": {},
     "output_type": "display_data"
    }
   ],
   "source": [
    "paint = ['pink','blue','orange','cyan','yellow']\n",
    "plt.figure(figsize = (5,3))\n",
    "plt.bar(plt3.keys(),plt3.values(),width = 0.6,color = paint)\n",
    "plt.title('Types Released According to Country',fontweight = 'bold')\n",
    "plt.xlabel('Countries')\n",
    "plt.ylabel('Count')\n",
    "plt.xticks(rotation = 90)\n",
    "plt.show()\n"
   ]
  },
  {
   "cell_type": "code",
   "execution_count": 101,
   "id": "6a4c9a7c-89a2-4160-9bdd-75764fff51ca",
   "metadata": {},
   "outputs": [],
   "source": [
    "new4 = df['director'].value_counts().head(5)"
   ]
  },
  {
   "cell_type": "code",
   "execution_count": 102,
   "id": "587a6a65-6441-4918-a0c1-d826e52d7ae4",
   "metadata": {},
   "outputs": [],
   "source": [
    "plt4 = dict(new4)"
   ]
  },
  {
   "cell_type": "code",
   "execution_count": 103,
   "id": "a282bc0f-aba2-4342-a1eb-47ad8f0f72b8",
   "metadata": {},
   "outputs": [],
   "source": [
    "plt4['Unknown'] = plt4.pop('')"
   ]
  },
  {
   "cell_type": "code",
   "execution_count": 113,
   "id": "2c57527f-dfe4-4a6b-9fe8-5dbbc00eac70",
   "metadata": {},
   "outputs": [
    {
     "data": {
      "image/png": "[encoded data removed]",
      "text/plain": [
       "<Figure size 1000x600 with 2 Axes>"
      ]
     },
     "metadata": {},
     "output_type": "display_data"
    }
   ],
   "source": [
    "fig, axes = plt.subplots(1, 2, figsize=(10, 6))\n",
    "axes[0].bar(plt4.keys(), plt4.values(), color='skyblue')\n",
    "axes[0].set_title('Bar Chart')\n",
    "axes[0].set_xlabel('Names')\n",
    "axes[0].set_ylabel('Frequency')\n",
    "axes[0].tick_params(axis='x', rotation=90)\n",
    "\n",
    "\n",
    "axes[1].pie(plt4.values(), labels=plt4.keys(), autopct='%1.1f%%', colors=['lightblue', 'lightgreen', 'orange', 'pink', 'red'])\n",
    "axes[1].set_title('Pie Chart')\n",
    "\n",
    "plt.show()\n"
   ]
  },
  {
   "cell_type": "code",
   "execution_count": 114,
   "id": "5d319b4d-6881-4fad-8fb5-0d90b778b119",
   "metadata": {},
   "outputs": [
    {
     "data": {
      "text/plain": [
       "type\n",
       "Movie      6131\n",
       "TV Show    2676\n",
       "Name: count, dtype: int64"
      ]
     },
     "execution_count": 114,
     "metadata": {},
     "output_type": "execute_result"
    }
   ],
   "source": []
  },
  {
   "cell_type": "code",
   "execution_count": 119,
   "id": "95a70325-cf6a-43c1-bee0-8a388d6ed73e",
   "metadata": {},
   "outputs": [],
   "source": [
    "plt5 = dict(wow)"
   ]
  },
  {
   "cell_type": "code",
   "execution_count": 131,
   "id": "4e4b76ce-5479-4083-b582-ee63fa213ac5",
   "metadata": {},
   "outputs": [
    {
     "data": {
      "image/png": "[encoded data removed]",
      "text/plain": [
       "<Figure size 500x400 with 1 Axes>"
      ]
     },
     "metadata": {},
     "output_type": "display_data"
    }
   ],
   "source": [
    "plt.figure(figsize = (5,4))\n",
    "plt.scatter(plt5.keys(),plt5.values(),marker = '*')\n",
    "plt.xlabel('Ratings of Movies',fontweight = 'bold')\n",
    "plt.ylabel('Count of Ratings Recieved',fontweight = 'bold')\n",
    "plt.title('Ratings Recieved on Movies',fontweight = 'bold')\n",
    "plt.show()"
   ]
  },
  {
   "cell_type": "code",
   "execution_count": 133,
   "id": "b9ffa6b5-2115-421f-bc5a-968c063ad75e",
   "metadata": {},
   "outputs": [
    {
     "data": {
      "text/plain": [
       "rating\n",
       "TV MA    1145\n",
       "TV 14     733\n",
       "TV PG     323\n",
       "TV Y7     195\n",
       "TV Y      176\n",
       "Name: count, dtype: int64"
      ]
     },
     "execution_count": 133,
     "metadata": {},
     "output_type": "execute_result"
    }
   ],
   "source": [
    "wow2"
   ]
  },
  {
   "cell_type": "code",
   "execution_count": 134,
   "id": "249ceeda-42b4-4f28-afab-6aff762368b8",
   "metadata": {},
   "outputs": [],
   "source": [
    "plt6 = dict(wow2)"
   ]
  },
  {
   "cell_type": "code",
   "execution_count": 139,
   "id": "05d2639f-cfaf-4fb8-86c7-920bef9a9d81",
   "metadata": {},
   "outputs": [
    {
     "data": {
      "image/png": "[encoded data removed]",
      "text/plain": [
       "<Figure size 500x400 with 1 Axes>"
      ]
     },
     "metadata": {},
     "output_type": "display_data"
    }
   ],
   "source": [
    "plt.figure(figsize = (5,4))\n",
    "plt.scatter(plt6.keys(),plt6.values(),marker = 'o')\n",
    "plt.xlabel('Rating of TV Shows',fontweight = 'bold')\n",
    "plt.ylabel('Count of Ratings',fontweight = 'bold')\n",
    "plt.title('Total Raings recieved on TV Shows',fontweight = 'bold')\n",
    "plt.show()"
   ]
  },
  {
   "cell_type": "code",
   "execution_count": 143,
   "id": "6df21235-2d5c-452f-a86d-6edaa68f6aa5",
   "metadata": {},
   "outputs": [
    {
     "data": {
      "text/plain": [
       "(8807, 11)"
      ]
     },
     "execution_count": 143,
     "metadata": {},
     "output_type": "execute_result"
    }
   ],
   "source": [
    "df.shape"
   ]
  },
  {
   "cell_type": "code",
   "execution_count": 167,
   "id": "dd873150-cca2-443f-bf2a-aa71d122f50a",
   "metadata": {},
   "outputs": [],
   "source": [
    "a = df[df['country']=='United States'][['type','country','rating']]"
   ]
  },
  {
   "cell_type": "code",
   "execution_count": 169,
   "id": "5df79512-b3c3-41e2-ad15-ec7d52b724ed",
   "metadata": {},
   "outputs": [],
   "source": [
    "new7 = a['type'].value_counts()"
   ]
  },
  {
   "cell_type": "code",
   "execution_count": 171,
   "id": "5f367c8a-52d4-4600-8895-d0fc2076fd31",
   "metadata": {},
   "outputs": [],
   "source": [
    "plt7 = dict(new7)"
   ]
  },
  {
   "cell_type": "code",
   "execution_count": 179,
   "id": "482fa7b4-9424-46dc-9fcc-e5460999c6bf",
   "metadata": {},
   "outputs": [
    {
     "data": {
      "image/png": "[encoded data removed]",
      "text/plain": [
       "<Figure size 500x500 with 1 Axes>"
      ]
     },
     "metadata": {},
     "output_type": "display_data"
    }
   ],
   "source": [
    "plt.figure(figsize = (5,5))\n",
    "plt.pie(plt7.values(),labels = plt7.keys(),autopct='%1.1f%%')\n",
    "plt.title('Ratio of Types in United States',fontweight = 'bold')\n",
    "plt.show()"
   ]
  },
  {
   "cell_type": "code",
   "execution_count": 180,
   "id": "097caefb-0cc2-4d8e-9dc1-02ea5f1f8504",
   "metadata": {},
   "outputs": [
    {
     "data": {
      "text/html": [
       "<div>\n",
       "<style scoped>\n",
       "    .dataframe tbody tr th:only-of-type {\n",
       "        vertical-align: middle;\n",
       "    }\n",
       "\n",
       "    .dataframe tbody tr th {\n",
       "        vertical-align: top;\n",
       "    }\n",
       "\n",
       "    .dataframe thead th {\n",
       "        text-align: right;\n",
       "    }\n",
       "</style>\n",
       "<table border=\"1\" class=\"dataframe\">\n",
       "  <thead>\n",
       "    <tr style=\"text-align: right;\">\n",
       "      <th></th>\n",
       "      <th>type</th>\n",
       "      <th>country</th>\n",
       "      <th>rating</th>\n",
       "    </tr>\n",
       "  </thead>\n",
       "  <tbody>\n",
       "    <tr>\n",
       "      <th>0</th>\n",
       "      <td>Movie</td>\n",
       "      <td>United States</td>\n",
       "      <td>PG 13</td>\n",
       "    </tr>\n",
       "    <tr>\n",
       "      <th>9</th>\n",
       "      <td>Movie</td>\n",
       "      <td>United States</td>\n",
       "      <td>PG 13</td>\n",
       "    </tr>\n",
       "    <tr>\n",
       "      <th>15</th>\n",
       "      <td>TV Show</td>\n",
       "      <td>United States</td>\n",
       "      <td>TV MA</td>\n",
       "    </tr>\n",
       "    <tr>\n",
       "      <th>27</th>\n",
       "      <td>Movie</td>\n",
       "      <td>United States</td>\n",
       "      <td>PG 13</td>\n",
       "    </tr>\n",
       "    <tr>\n",
       "      <th>28</th>\n",
       "      <td>Movie</td>\n",
       "      <td>United States</td>\n",
       "      <td>PG 13</td>\n",
       "    </tr>\n",
       "    <tr>\n",
       "      <th>...</th>\n",
       "      <td>...</td>\n",
       "      <td>...</td>\n",
       "      <td>...</td>\n",
       "    </tr>\n",
       "    <tr>\n",
       "      <th>8791</th>\n",
       "      <td>Movie</td>\n",
       "      <td>United States</td>\n",
       "      <td>R</td>\n",
       "    </tr>\n",
       "    <tr>\n",
       "      <th>8793</th>\n",
       "      <td>Movie</td>\n",
       "      <td>United States</td>\n",
       "      <td>PG</td>\n",
       "    </tr>\n",
       "    <tr>\n",
       "      <th>8802</th>\n",
       "      <td>Movie</td>\n",
       "      <td>United States</td>\n",
       "      <td>R</td>\n",
       "    </tr>\n",
       "    <tr>\n",
       "      <th>8804</th>\n",
       "      <td>Movie</td>\n",
       "      <td>United States</td>\n",
       "      <td>R</td>\n",
       "    </tr>\n",
       "    <tr>\n",
       "      <th>8805</th>\n",
       "      <td>Movie</td>\n",
       "      <td>United States</td>\n",
       "      <td>PG</td>\n",
       "    </tr>\n",
       "  </tbody>\n",
       "</table>\n",
       "<p>2818 rows × 3 columns</p>\n",
       "</div>"
      ],
      "text/plain": [
       "         type        country rating\n",
       "0       Movie  United States  PG 13\n",
       "9       Movie  United States  PG 13\n",
       "15    TV Show  United States  TV MA\n",
       "27      Movie  United States  PG 13\n",
       "28      Movie  United States  PG 13\n",
       "...       ...            ...    ...\n",
       "8791    Movie  United States      R\n",
       "8793    Movie  United States     PG\n",
       "8802    Movie  United States      R\n",
       "8804    Movie  United States      R\n",
       "8805    Movie  United States     PG\n",
       "\n",
       "[2818 rows x 3 columns]"
      ]
     },
     "execution_count": 180,
     "metadata": {},
     "output_type": "execute_result"
    }
   ],
   "source": [
    "a"
   ]
  },
  {
   "cell_type": "code",
   "execution_count": 181,
   "id": "e2ee61f0-8e02-4919-ac65-5dd02eaf9087",
   "metadata": {},
   "outputs": [],
   "source": [
    "f = a[a['type']=='Movie'][['rating','type']]"
   ]
  },
  {
   "cell_type": "code",
   "execution_count": 182,
   "id": "81f42bd4-d13b-4330-b20a-a217a276f845",
   "metadata": {},
   "outputs": [
    {
     "data": {
      "text/html": [
       "<div>\n",
       "<style scoped>\n",
       "    .dataframe tbody tr th:only-of-type {\n",
       "        vertical-align: middle;\n",
       "    }\n",
       "\n",
       "    .dataframe tbody tr th {\n",
       "        vertical-align: top;\n",
       "    }\n",
       "\n",
       "    .dataframe thead th {\n",
       "        text-align: right;\n",
       "    }\n",
       "</style>\n",
       "<table border=\"1\" class=\"dataframe\">\n",
       "  <thead>\n",
       "    <tr style=\"text-align: right;\">\n",
       "      <th></th>\n",
       "      <th>rating</th>\n",
       "      <th>type</th>\n",
       "    </tr>\n",
       "  </thead>\n",
       "  <tbody>\n",
       "    <tr>\n",
       "      <th>0</th>\n",
       "      <td>PG 13</td>\n",
       "      <td>Movie</td>\n",
       "    </tr>\n",
       "    <tr>\n",
       "      <th>9</th>\n",
       "      <td>PG 13</td>\n",
       "      <td>Movie</td>\n",
       "    </tr>\n",
       "    <tr>\n",
       "      <th>27</th>\n",
       "      <td>PG 13</td>\n",
       "      <td>Movie</td>\n",
       "    </tr>\n",
       "    <tr>\n",
       "      <th>28</th>\n",
       "      <td>PG 13</td>\n",
       "      <td>Movie</td>\n",
       "    </tr>\n",
       "    <tr>\n",
       "      <th>41</th>\n",
       "      <td>PG</td>\n",
       "      <td>Movie</td>\n",
       "    </tr>\n",
       "    <tr>\n",
       "      <th>...</th>\n",
       "      <td>...</td>\n",
       "      <td>...</td>\n",
       "    </tr>\n",
       "    <tr>\n",
       "      <th>8791</th>\n",
       "      <td>R</td>\n",
       "      <td>Movie</td>\n",
       "    </tr>\n",
       "    <tr>\n",
       "      <th>8793</th>\n",
       "      <td>PG</td>\n",
       "      <td>Movie</td>\n",
       "    </tr>\n",
       "    <tr>\n",
       "      <th>8802</th>\n",
       "      <td>R</td>\n",
       "      <td>Movie</td>\n",
       "    </tr>\n",
       "    <tr>\n",
       "      <th>8804</th>\n",
       "      <td>R</td>\n",
       "      <td>Movie</td>\n",
       "    </tr>\n",
       "    <tr>\n",
       "      <th>8805</th>\n",
       "      <td>PG</td>\n",
       "      <td>Movie</td>\n",
       "    </tr>\n",
       "  </tbody>\n",
       "</table>\n",
       "<p>2058 rows × 2 columns</p>\n",
       "</div>"
      ],
      "text/plain": [
       "     rating   type\n",
       "0     PG 13  Movie\n",
       "9     PG 13  Movie\n",
       "27    PG 13  Movie\n",
       "28    PG 13  Movie\n",
       "41       PG  Movie\n",
       "...     ...    ...\n",
       "8791      R  Movie\n",
       "8793     PG  Movie\n",
       "8802      R  Movie\n",
       "8804      R  Movie\n",
       "8805     PG  Movie\n",
       "\n",
       "[2058 rows x 2 columns]"
      ]
     },
     "execution_count": 182,
     "metadata": {},
     "output_type": "execute_result"
    }
   ],
   "source": [
    "f"
   ]
  },
  {
   "cell_type": "code",
   "execution_count": 186,
   "id": "425380d6-edbe-4660-a82f-77dd1ebcf018",
   "metadata": {},
   "outputs": [],
   "source": [
    "new8 = f['rating'].value_counts().head(6)"
   ]
  },
  {
   "cell_type": "code",
   "execution_count": 187,
   "id": "7a194d14-10db-4b04-a2b5-f420143a7978",
   "metadata": {},
   "outputs": [],
   "source": [
    "plt8 = dict(new8)"
   ]
  },
  {
   "cell_type": "code",
   "execution_count": 197,
   "id": "e741db43-ea8b-4a34-8e09-7ca98e16733c",
   "metadata": {},
   "outputs": [
    {
     "data": {
      "image/png": "[encoded data removed]",
      "text/plain": [
       "<Figure size 1000x300 with 1 Axes>"
      ]
     },
     "metadata": {},
     "output_type": "display_data"
    }
   ],
   "source": [
    "paint1 = ['red','green','blue','cyan','magenta']\n",
    "plt.figure(figsize = (10,3))\n",
    "plt.bar(plt8.keys(),plt8.values(),color = paint1)\n",
    "plt.xlabel('Ratings')\n",
    "plt.ylabel('Count of Ratings')\n",
    "plt.title('Ratings Given to Movies in US',fontweight = 'bold')\n",
    "plt.show()"
   ]
  },
  {
   "cell_type": "code",
   "execution_count": 204,
   "id": "efbc93bf-e084-4523-b88d-ebe44f71d09d",
   "metadata": {},
   "outputs": [],
   "source": [
    "deo = a[a['type']!='Movie'][['rating','type']]"
   ]
  },
  {
   "cell_type": "code",
   "execution_count": 210,
   "id": "e1aa6a34-e24d-4291-9d2f-cb08f8073b7f",
   "metadata": {},
   "outputs": [],
   "source": [
    "x = deo['rating'].value_counts().head(6)"
   ]
  },
  {
   "cell_type": "code",
   "execution_count": 212,
   "id": "351bb950-16a9-47f5-86ab-b2d17de8f419",
   "metadata": {},
   "outputs": [],
   "source": [
    "plt9 = dict(x)"
   ]
  },
  {
   "cell_type": "code",
   "execution_count": 219,
   "id": "36f44ae7-94d3-476a-bbe9-b798953fa948",
   "metadata": {},
   "outputs": [
    {
     "data": {
      "image/png": "[encoded data removed]",
      "text/plain": [
       "<Figure size 1000x300 with 1 Axes>"
      ]
     },
     "metadata": {},
     "output_type": "display_data"
    }
   ],
   "source": [
    "plt.figure(figsize = (10,3))\n",
    "plt.pie(plt9.values(),labels = plt9.keys(),autopct = '%1.1f%%')\n",
    "plt.title('Ratings Of TV Shows in US',fontweight = 'bold')\n",
    "plt.show()"
   ]
  },
  {
   "cell_type": "code",
   "execution_count": 225,
   "id": "2de488b1-4d3e-4a63-83d1-74af75cbee20",
   "metadata": {},
   "outputs": [],
   "source": [
    "eo = df[['type','duration','country']]"
   ]
  },
  {
   "cell_type": "code",
   "execution_count": 231,
   "id": "da608815-aab7-43eb-bb56-4907e6457307",
   "metadata": {},
   "outputs": [],
   "source": [
    "xy = eo[(eo['duration']>='90 min')&(eo['type']=='Movie')][['type','duration','country']]"
   ]
  },
  {
   "cell_type": "code",
   "execution_count": 232,
   "id": "8ce50822-8d9d-4956-a8a6-d3b27fd1c3a2",
   "metadata": {},
   "outputs": [
    {
     "data": {
      "text/html": [
       "<div>\n",
       "<style scoped>\n",
       "    .dataframe tbody tr th:only-of-type {\n",
       "        vertical-align: middle;\n",
       "    }\n",
       "\n",
       "    .dataframe tbody tr th {\n",
       "        vertical-align: top;\n",
       "    }\n",
       "\n",
       "    .dataframe thead th {\n",
       "        text-align: right;\n",
       "    }\n",
       "</style>\n",
       "<table border=\"1\" class=\"dataframe\">\n",
       "  <thead>\n",
       "    <tr style=\"text-align: right;\">\n",
       "      <th></th>\n",
       "      <th>type</th>\n",
       "      <th>duration</th>\n",
       "      <th>country</th>\n",
       "    </tr>\n",
       "  </thead>\n",
       "  <tbody>\n",
       "    <tr>\n",
       "      <th>0</th>\n",
       "      <td>Movie</td>\n",
       "      <td>90 min</td>\n",
       "      <td>United States</td>\n",
       "    </tr>\n",
       "    <tr>\n",
       "      <th>6</th>\n",
       "      <td>Movie</td>\n",
       "      <td>91 min</td>\n",
       "      <td></td>\n",
       "    </tr>\n",
       "    <tr>\n",
       "      <th>13</th>\n",
       "      <td>Movie</td>\n",
       "      <td>91 min</td>\n",
       "      <td></td>\n",
       "    </tr>\n",
       "    <tr>\n",
       "      <th>18</th>\n",
       "      <td>Movie</td>\n",
       "      <td>94 min</td>\n",
       "      <td></td>\n",
       "    </tr>\n",
       "    <tr>\n",
       "      <th>28</th>\n",
       "      <td>Movie</td>\n",
       "      <td>97 min</td>\n",
       "      <td>United States</td>\n",
       "    </tr>\n",
       "    <tr>\n",
       "      <th>...</th>\n",
       "      <td>...</td>\n",
       "      <td>...</td>\n",
       "      <td>...</td>\n",
       "    </tr>\n",
       "    <tr>\n",
       "      <th>8776</th>\n",
       "      <td>Movie</td>\n",
       "      <td>90 min</td>\n",
       "      <td>France  Belgium</td>\n",
       "    </tr>\n",
       "    <tr>\n",
       "      <th>8781</th>\n",
       "      <td>Movie</td>\n",
       "      <td>96 min</td>\n",
       "      <td>Japan  United States</td>\n",
       "    </tr>\n",
       "    <tr>\n",
       "      <th>8791</th>\n",
       "      <td>Movie</td>\n",
       "      <td>94 min</td>\n",
       "      <td>United States</td>\n",
       "    </tr>\n",
       "    <tr>\n",
       "      <th>8794</th>\n",
       "      <td>Movie</td>\n",
       "      <td>98 min</td>\n",
       "      <td>Egypt  France</td>\n",
       "    </tr>\n",
       "    <tr>\n",
       "      <th>8801</th>\n",
       "      <td>Movie</td>\n",
       "      <td>96 min</td>\n",
       "      <td>United Arab Emirates  Jordan</td>\n",
       "    </tr>\n",
       "  </tbody>\n",
       "</table>\n",
       "<p>1368 rows × 3 columns</p>\n",
       "</div>"
      ],
      "text/plain": [
       "       type duration                       country\n",
       "0     Movie   90 min                 United States\n",
       "6     Movie   91 min                              \n",
       "13    Movie   91 min                              \n",
       "18    Movie   94 min                              \n",
       "28    Movie   97 min                 United States\n",
       "...     ...      ...                           ...\n",
       "8776  Movie   90 min               France  Belgium\n",
       "8781  Movie   96 min          Japan  United States\n",
       "8791  Movie   94 min                 United States\n",
       "8794  Movie   98 min                 Egypt  France\n",
       "8801  Movie   96 min  United Arab Emirates  Jordan\n",
       "\n",
       "[1368 rows x 3 columns]"
      ]
     },
     "execution_count": 232,
     "metadata": {},
     "output_type": "execute_result"
    }
   ],
   "source": [
    "xy"
   ]
  },
  {
   "cell_type": "code",
   "execution_count": 242,
   "id": "1848e984-d2bb-432c-9ad6-f37a96f08beb",
   "metadata": {},
   "outputs": [],
   "source": [
    "new10 = xy['country'].value_counts().head(10)"
   ]
  },
  {
   "cell_type": "code",
   "execution_count": 243,
   "id": "7b3754f8-b324-4cb0-9197-aa2bf11b8063",
   "metadata": {},
   "outputs": [],
   "source": [
    "plt10 = dict(new10)"
   ]
  },
  {
   "cell_type": "code",
   "execution_count": 244,
   "id": "35658519-ac85-42d5-abe1-c06cbbeee834",
   "metadata": {},
   "outputs": [],
   "source": [
    "plt10['Unknown'] = plt10.pop('')"
   ]
  },
  {
   "cell_type": "code",
   "execution_count": 245,
   "id": "92eb78d1-c61e-4b0f-8955-ef1e8803380b",
   "metadata": {},
   "outputs": [
    {
     "data": {
      "text/plain": [
       "{'United States': 536,\n",
       " 'India': 63,\n",
       " 'United Kingdom': 62,\n",
       " 'Canada': 38,\n",
       " 'France': 31,\n",
       " 'Spain': 31,\n",
       " 'Egypt': 28,\n",
       " 'Japan': 23,\n",
       " 'Nigeria': 20,\n",
       " 'Unknown': 66}"
      ]
     },
     "execution_count": 245,
     "metadata": {},
     "output_type": "execute_result"
    }
   ],
   "source": [
    "plt10"
   ]
  },
  {
   "cell_type": "code",
   "execution_count": 254,
   "id": "ddb37378-f80d-40fe-a4ff-1f8b12880a4a",
   "metadata": {},
   "outputs": [
    {
     "data": {
      "image/png": "[encoded data removed]",
      "text/plain": [
       "<Figure size 1000x500 with 1 Axes>"
      ]
     },
     "metadata": {},
     "output_type": "display_data"
    }
   ],
   "source": [
    "plt.figure(figsize = (10,5))\n",
    "plt.bar(plt10.keys(),plt10.values(),color = paint1)\n",
    "plt.xticks(rotation = 45)\n",
    "plt.title('Top Countries Watching Movies of More Than 90 Mins',fontweight = 'bold')\n",
    "plt.xlabel('Countries')\n",
    "plt.ylabel('Count')\n",
    "plt.show()"
   ]
  },
  {
   "cell_type": "code",
   "execution_count": 256,
   "id": "e16758e9-9227-41a8-9b5f-6bc061a283a5",
   "metadata": {},
   "outputs": [
    {
     "data": {
      "text/html": [
       "<div>\n",
       "<style scoped>\n",
       "    .dataframe tbody tr th:only-of-type {\n",
       "        vertical-align: middle;\n",
       "    }\n",
       "\n",
       "    .dataframe tbody tr th {\n",
       "        vertical-align: top;\n",
       "    }\n",
       "\n",
       "    .dataframe thead th {\n",
       "        text-align: right;\n",
       "    }\n",
       "</style>\n",
       "<table border=\"1\" class=\"dataframe\">\n",
       "  <thead>\n",
       "    <tr style=\"text-align: right;\">\n",
       "      <th></th>\n",
       "      <th>type</th>\n",
       "      <th>duration</th>\n",
       "      <th>country</th>\n",
       "    </tr>\n",
       "  </thead>\n",
       "  <tbody>\n",
       "    <tr>\n",
       "      <th>0</th>\n",
       "      <td>Movie</td>\n",
       "      <td>90 min</td>\n",
       "      <td>United States</td>\n",
       "    </tr>\n",
       "    <tr>\n",
       "      <th>1</th>\n",
       "      <td>TV Show</td>\n",
       "      <td>2 Seasons</td>\n",
       "      <td>South Africa</td>\n",
       "    </tr>\n",
       "    <tr>\n",
       "      <th>2</th>\n",
       "      <td>TV Show</td>\n",
       "      <td>1 Season</td>\n",
       "      <td></td>\n",
       "    </tr>\n",
       "    <tr>\n",
       "      <th>3</th>\n",
       "      <td>TV Show</td>\n",
       "      <td>1 Season</td>\n",
       "      <td></td>\n",
       "    </tr>\n",
       "    <tr>\n",
       "      <th>4</th>\n",
       "      <td>TV Show</td>\n",
       "      <td>2 Seasons</td>\n",
       "      <td>India</td>\n",
       "    </tr>\n",
       "    <tr>\n",
       "      <th>...</th>\n",
       "      <td>...</td>\n",
       "      <td>...</td>\n",
       "      <td>...</td>\n",
       "    </tr>\n",
       "    <tr>\n",
       "      <th>8802</th>\n",
       "      <td>Movie</td>\n",
       "      <td>158 min</td>\n",
       "      <td>United States</td>\n",
       "    </tr>\n",
       "    <tr>\n",
       "      <th>8803</th>\n",
       "      <td>TV Show</td>\n",
       "      <td>2 Seasons</td>\n",
       "      <td></td>\n",
       "    </tr>\n",
       "    <tr>\n",
       "      <th>8804</th>\n",
       "      <td>Movie</td>\n",
       "      <td>88 min</td>\n",
       "      <td>United States</td>\n",
       "    </tr>\n",
       "    <tr>\n",
       "      <th>8805</th>\n",
       "      <td>Movie</td>\n",
       "      <td>88 min</td>\n",
       "      <td>United States</td>\n",
       "    </tr>\n",
       "    <tr>\n",
       "      <th>8806</th>\n",
       "      <td>Movie</td>\n",
       "      <td>111 min</td>\n",
       "      <td>India</td>\n",
       "    </tr>\n",
       "  </tbody>\n",
       "</table>\n",
       "<p>8807 rows × 3 columns</p>\n",
       "</div>"
      ],
      "text/plain": [
       "         type   duration        country\n",
       "0       Movie     90 min  United States\n",
       "1     TV Show  2 Seasons   South Africa\n",
       "2     TV Show   1 Season               \n",
       "3     TV Show   1 Season               \n",
       "4     TV Show  2 Seasons          India\n",
       "...       ...        ...            ...\n",
       "8802    Movie    158 min  United States\n",
       "8803  TV Show  2 Seasons               \n",
       "8804    Movie     88 min  United States\n",
       "8805    Movie     88 min  United States\n",
       "8806    Movie    111 min          India\n",
       "\n",
       "[8807 rows x 3 columns]"
      ]
     },
     "execution_count": 256,
     "metadata": {},
     "output_type": "execute_result"
    }
   ],
   "source": []
  },
  {
   "cell_type": "code",
   "execution_count": 261,
   "id": "4e0189e8-9d25-45c6-b86b-90587e915fa4",
   "metadata": {},
   "outputs": [],
   "source": [
    "ab = eo[(eo['duration']>='1 Season')&(eo['type']=='TV Show')][['type','duration','country']]"
   ]
  },
  {
   "cell_type": "code",
   "execution_count": 262,
   "id": "a0621287-2bac-4328-b1a8-47015ebc5964",
   "metadata": {},
   "outputs": [
    {
     "data": {
      "text/html": [
       "<div>\n",
       "<style scoped>\n",
       "    .dataframe tbody tr th:only-of-type {\n",
       "        vertical-align: middle;\n",
       "    }\n",
       "\n",
       "    .dataframe tbody tr th {\n",
       "        vertical-align: top;\n",
       "    }\n",
       "\n",
       "    .dataframe thead th {\n",
       "        text-align: right;\n",
       "    }\n",
       "</style>\n",
       "<table border=\"1\" class=\"dataframe\">\n",
       "  <thead>\n",
       "    <tr style=\"text-align: right;\">\n",
       "      <th></th>\n",
       "      <th>type</th>\n",
       "      <th>duration</th>\n",
       "      <th>country</th>\n",
       "    </tr>\n",
       "  </thead>\n",
       "  <tbody>\n",
       "    <tr>\n",
       "      <th>1</th>\n",
       "      <td>TV Show</td>\n",
       "      <td>2 Seasons</td>\n",
       "      <td>South Africa</td>\n",
       "    </tr>\n",
       "    <tr>\n",
       "      <th>2</th>\n",
       "      <td>TV Show</td>\n",
       "      <td>1 Season</td>\n",
       "      <td></td>\n",
       "    </tr>\n",
       "    <tr>\n",
       "      <th>3</th>\n",
       "      <td>TV Show</td>\n",
       "      <td>1 Season</td>\n",
       "      <td></td>\n",
       "    </tr>\n",
       "    <tr>\n",
       "      <th>4</th>\n",
       "      <td>TV Show</td>\n",
       "      <td>2 Seasons</td>\n",
       "      <td>India</td>\n",
       "    </tr>\n",
       "    <tr>\n",
       "      <th>5</th>\n",
       "      <td>TV Show</td>\n",
       "      <td>1 Season</td>\n",
       "      <td></td>\n",
       "    </tr>\n",
       "    <tr>\n",
       "      <th>...</th>\n",
       "      <td>...</td>\n",
       "      <td>...</td>\n",
       "      <td>...</td>\n",
       "    </tr>\n",
       "    <tr>\n",
       "      <th>8795</th>\n",
       "      <td>TV Show</td>\n",
       "      <td>2 Seasons</td>\n",
       "      <td>Japan  Canada</td>\n",
       "    </tr>\n",
       "    <tr>\n",
       "      <th>8796</th>\n",
       "      <td>TV Show</td>\n",
       "      <td>2 Seasons</td>\n",
       "      <td>Turkey</td>\n",
       "    </tr>\n",
       "    <tr>\n",
       "      <th>8797</th>\n",
       "      <td>TV Show</td>\n",
       "      <td>3 Seasons</td>\n",
       "      <td>United States  France  South Korea  Indonesia</td>\n",
       "    </tr>\n",
       "    <tr>\n",
       "      <th>8800</th>\n",
       "      <td>TV Show</td>\n",
       "      <td>1 Season</td>\n",
       "      <td>Pakistan</td>\n",
       "    </tr>\n",
       "    <tr>\n",
       "      <th>8803</th>\n",
       "      <td>TV Show</td>\n",
       "      <td>2 Seasons</td>\n",
       "      <td></td>\n",
       "    </tr>\n",
       "  </tbody>\n",
       "</table>\n",
       "<p>2676 rows × 3 columns</p>\n",
       "</div>"
      ],
      "text/plain": [
       "         type   duration                                        country\n",
       "1     TV Show  2 Seasons                                   South Africa\n",
       "2     TV Show   1 Season                                               \n",
       "3     TV Show   1 Season                                               \n",
       "4     TV Show  2 Seasons                                          India\n",
       "5     TV Show   1 Season                                               \n",
       "...       ...        ...                                            ...\n",
       "8795  TV Show  2 Seasons                                  Japan  Canada\n",
       "8796  TV Show  2 Seasons                                         Turkey\n",
       "8797  TV Show  3 Seasons  United States  France  South Korea  Indonesia\n",
       "8800  TV Show   1 Season                                       Pakistan\n",
       "8803  TV Show  2 Seasons                                               \n",
       "\n",
       "[2676 rows x 3 columns]"
      ]
     },
     "execution_count": 262,
     "metadata": {},
     "output_type": "execute_result"
    }
   ],
   "source": [
    "ab"
   ]
  },
  {
   "cell_type": "code",
   "execution_count": 265,
   "id": "4ea7b80f-5cb4-494c-9360-c687a45f9d80",
   "metadata": {},
   "outputs": [],
   "source": [
    "new11 = ab['duration'].value_counts().head(6)"
   ]
  },
  {
   "cell_type": "code",
   "execution_count": 266,
   "id": "d61a8b55-b9e8-4460-8145-3d9ecfb3e7d5",
   "metadata": {},
   "outputs": [],
   "source": [
    "plt11 = dict(new11)"
   ]
  },
  {
   "cell_type": "code",
   "execution_count": 275,
   "id": "aa8d5099-e775-4505-a16f-a75137c41dc8",
   "metadata": {},
   "outputs": [
    {
     "data": {
      "image/png": "[encoded data removed]",
      "text/plain": [
       "<Figure size 700x400 with 1 Axes>"
      ]
     },
     "metadata": {},
     "output_type": "display_data"
    }
   ],
   "source": [
    "plt.figure(figsize = (7,4))\n",
    "plt.scatter(plt11.keys(),plt11.values(),marker = '*')\n",
    "plt.xticks(rotation = 45)\n",
    "plt.title('Interest of People in Watching more than 1 seasons',fontweight = 'bold')\n",
    "plt.xlabel('Seasons')\n",
    "plt.ylabel('Count')\n",
    "plt.show()"
   ]
  },
  {
   "cell_type": "code",
   "execution_count": null,
   "id": "a2f1c88e-a20e-42de-95f3-f9f70f6903c9",
   "metadata": {},
   "outputs": [],
   "source": []
  }
 ],
 "metadata": {
  "kernelspec": {
   "display_name": "Python 3 (ipykernel)",
   "language": "python",
   "name": "python3"
  },
  "language_info": {
   "codemirror_mode": {
    "name": "ipython",
    "version": 3
   },
   "file_extension": ".py",
   "mimetype": "text/x-python",
   "name": "python",
   "nbconvert_exporter": "python",
   "pygments_lexer": "ipython3",
   "version": "3.11.7"
  }
 },
 "nbformat": 4,
 "nbformat_minor": 5
}
